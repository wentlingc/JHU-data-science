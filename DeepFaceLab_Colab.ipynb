{
  "nbformat": 4,
  "nbformat_minor": 0,
  "metadata": {
    "colab": {
      "name": "DeepFaceLab_Colab.ipynb",
      "provenance": [],
      "toc_visible": true,
      "include_colab_link": true
    },
    "kernelspec": {
      "name": "python3",
      "display_name": "Python 3"
    },
    "accelerator": "GPU"
  },
  "cells": [
    {
      "cell_type": "markdown",
      "metadata": {
        "id": "view-in-github",
        "colab_type": "text"
      },
      "source": [
        "<a href=\"https://colab.research.google.com/github/wentlingc/JHU-data-science/blob/master/DeepFaceLab_Colab.ipynb\" target=\"_parent\"><img src=\"https://colab.research.google.com/assets/colab-badge.svg\" alt=\"Open In Colab\"/></a>"
      ]
    },
    {
      "metadata": {
        "id": "KWQMLYlFrTXz"
      },
      "cell_type": "markdown",
      "source": [
        "# Overview\n",
        "\n",
        "Nothing to say , just run run run  it"
      ]
    },
    {
      "metadata": {
        "id": "ldpC3PjRrYYh"
      },
      "cell_type": "markdown",
      "source": [
        "# Step 1 Upload your *workspace* to Google Drive\n",
        "\n",
        "\n",
        "1. Create a directory called ***DeepFaceLab*** in the root directory of Google Cloud.\n",
        "2. Upload ***workspace*** to ***DeepFaceLab***  \n",
        "3. Mount Google Drive as folder\n",
        "4. Enter the directory by command\n",
        "\n"
      ]
    },
    {
      "metadata": {
        "id": "D7toZxhT4J9W",
        "colab": {
          "base_uri": "https://localhost:8080/"
        },
        "outputId": "30906e91-b76e-4b07-bdc8-78b4d0b60ca5"
      },
      "cell_type": "code",
      "source": [
        "#Mount Google Drive as folder\n",
        "\n",
        "from google.colab import drive\n",
        "\n",
        "drive.mount('/content/drive', force_remount=True)"
      ],
      "execution_count": 1,
      "outputs": [
        {
          "output_type": "stream",
          "name": "stdout",
          "text": [
            "Mounted at /content/drive\n"
          ]
        }
      ]
    },
    {
      "metadata": {
        "id": "rDUpbJYR54dw",
        "colab": {
          "base_uri": "https://localhost:8080/"
        },
        "outputId": "189bc8c0-13a6-433d-9874-c655d2ca06f0"
      },
      "cell_type": "code",
      "source": [
        "# Enter the directory by command\n",
        "%cd /content/drive/My Drive/DeepFaceLab/"
      ],
      "execution_count": 3,
      "outputs": [
        {
          "output_type": "stream",
          "name": "stdout",
          "text": [
            "[Errno 2] No such file or directory: '/content/drive/My Drive/DeepFaceLab/'\n",
            "/content\n"
          ]
        }
      ]
    },
    {
      "cell_type": "code",
      "source": [],
      "metadata": {
        "id": "kwE57DAj240M"
      },
      "execution_count": null,
      "outputs": []
    },
    {
      "cell_type": "code",
      "source": [],
      "metadata": {
        "id": "Sf9Wsc4j24ct"
      },
      "execution_count": null,
      "outputs": []
    },
    {
      "metadata": {
        "id": "yA4nziLPtAf9"
      },
      "cell_type": "markdown",
      "source": [
        "#Step 2  Install DFL\n"
      ]
    },
    {
      "metadata": {
        "id": "yd11UhiUvUfP",
        "colab": {
          "base_uri": "https://localhost:8080/"
        },
        "outputId": "35c1540f-7a9b-40a2-984a-a8f94c2d1676"
      },
      "cell_type": "code",
      "source": [
        "#Clone stable master branch(recommended)\n",
        "\n",
        "!git clone https://github.com/dream80/DeepFaceLab_Colab.git\n",
        "\n",
        "#Pull updates from repository\n",
        "!git pull\n",
        "\n",
        "\n",
        "# Into DeepFaceLab_Colab\n",
        "%cd /content/drive/My Drive/DeepFaceLab/DeepFaceLab_Colab\n",
        "\n",
        "#Install requirements\n",
        "\n",
        "!pip install -r requirements.txt\n",
        "!pip install --upgrade scikit-image"
      ],
      "execution_count": 4,
      "outputs": [
        {
          "output_type": "stream",
          "name": "stdout",
          "text": [
            "Cloning into 'DeepFaceLab_Colab'...\n",
            "fatal: could not read Username for 'https://github.com': No such device or address\n",
            "fatal: not a git repository (or any of the parent directories): .git\n",
            "[Errno 2] No such file or directory: '/content/drive/My Drive/DeepFaceLab/DeepFaceLab_Colab'\n",
            "/content\n",
            "\u001b[31mERROR: Could not open requirements file: [Errno 2] No such file or directory: 'requirements.txt'\u001b[0m\u001b[31m\n",
            "\u001b[0mRequirement already satisfied: scikit-image in /usr/local/lib/python3.11/dist-packages (0.25.2)\n",
            "Requirement already satisfied: numpy>=1.24 in /usr/local/lib/python3.11/dist-packages (from scikit-image) (2.0.2)\n",
            "Requirement already satisfied: scipy>=1.11.4 in /usr/local/lib/python3.11/dist-packages (from scikit-image) (1.15.3)\n",
            "Requirement already satisfied: networkx>=3.0 in /usr/local/lib/python3.11/dist-packages (from scikit-image) (3.5)\n",
            "Requirement already satisfied: pillow>=10.1 in /usr/local/lib/python3.11/dist-packages (from scikit-image) (11.2.1)\n",
            "Requirement already satisfied: imageio!=2.35.0,>=2.33 in /usr/local/lib/python3.11/dist-packages (from scikit-image) (2.37.0)\n",
            "Requirement already satisfied: tifffile>=2022.8.12 in /usr/local/lib/python3.11/dist-packages (from scikit-image) (2025.6.11)\n",
            "Requirement already satisfied: packaging>=21 in /usr/local/lib/python3.11/dist-packages (from scikit-image) (24.2)\n",
            "Requirement already satisfied: lazy-loader>=0.4 in /usr/local/lib/python3.11/dist-packages (from scikit-image) (0.4)\n"
          ]
        }
      ]
    },
    {
      "metadata": {
        "id": "9G9s5gJrty-x"
      },
      "cell_type": "markdown",
      "source": [
        "# Step 3. Extract faces"
      ]
    },
    {
      "metadata": {
        "id": "97VTmSmkEk2j"
      },
      "cell_type": "code",
      "source": [
        "# Into DeepFaceLab_Colab\n",
        "%cd /content/drive/My Drive/DeepFaceLab/DeepFaceLab_Colab"
      ],
      "execution_count": null,
      "outputs": []
    },
    {
      "metadata": {
        "id": "z35vHpqaw8t-"
      },
      "cell_type": "code",
      "source": [
        "#Extract frames from DST video\n",
        "\n",
        "!python main.py videoed extract-video --input-file ../workspace/data_dst.mp4 --output-dir ../workspace/data_dst/"
      ],
      "execution_count": null,
      "outputs": []
    },
    {
      "metadata": {
        "id": "EbAY9bJvxDBK"
      },
      "cell_type": "code",
      "source": [
        "#Extract Face from data_dst\n",
        "\n",
        "!python main.py extract --input-dir ../workspace/data_dst --output-dir ../workspace/data_dst/aligned --detector s3fd --debug-dir ../workspace/data_dst/aligned_debug"
      ],
      "execution_count": null,
      "outputs": []
    },
    {
      "metadata": {
        "id": "w8qxq7jAxGrQ"
      },
      "cell_type": "code",
      "source": [
        "#Extract frames from SRC video\n",
        "!python main.py videoed extract-video --input-file ../workspace/data_src.mp4 --output-dir ../workspace/data_src/"
      ],
      "execution_count": null,
      "outputs": []
    },
    {
      "metadata": {
        "id": "hpTukPbSxbGP"
      },
      "cell_type": "code",
      "source": [
        "#Extract Face from data_src\n",
        "\n",
        "!python main.py extract --input-dir ../workspace/data_src --output-dir ../workspace/data_src/aligned --detector s3fd --debug-dir ../workspace/data_src/aligned_debug"
      ],
      "execution_count": null,
      "outputs": []
    },
    {
      "metadata": {
        "id": "QxO1kNO_uRTF"
      },
      "cell_type": "markdown",
      "source": [
        "# Step 4. Train model\n",
        "\n",
        "\n",
        "*   Only SAE\n",
        "*   Set model options on output field\n",
        "*   You can't get preview in output. (for now)\n",
        "*   Different samples are saved in SAE_history. You can see the last saved preview, if you run the block 'Show last preview ..', ut you have to stop training for this.\n",
        "*   Also, you can see the preview if you download the image from SAE_history manually. It does not require to stop training.\n",
        "*   I plan to make a preview for the notebook later\n",
        "*   For stop training you  need manually interrupt execution. You get error in output, but model will be saved.\n"
      ]
    },
    {
      "metadata": {
        "id": "JOxI3qTaxr4x",
        "colab": {
          "base_uri": "https://localhost:8080/",
          "height": 1494
        },
        "outputId": "a7004208-3fbb-4d59-aa57-538bd99f97cf"
      },
      "cell_type": "code",
      "source": [
        "# Running trainer.\n",
        "\n",
        "!python main.py train --training-data-src-dir ../workspace/data_src/aligned --training-data-dst-dir ../workspace/data_dst/aligned --model-dir ../workspace/model --model SAE --no-preview"
      ],
      "execution_count": null,
      "outputs": [
        {
          "output_type": "stream",
          "text": [
            "Running trainer.\r\n",
            "\n",
            "Loading model...\n",
            "\n",
            "Model first run. Enter model options as default for each run.\n",
            "Write preview history? (y/n ?:help skip:n) : \n",
            "n\n",
            "Target iteration (skip:unlimited/default) : \n",
            "0\n",
            "Batch_size (?:help skip:0) : \n",
            "0\n",
            "Feed faces to network sorted by yaw? (y/n ?:help skip:n) : \n",
            "n\n",
            "Flip faces randomly? (y/n ?:help skip:y) : \n",
            "y\n",
            "Src face scale modifier % ( -30...30, ?:help skip:0) : \n",
            "0\n",
            "Resolution ( 64-256 ?:help skip:128) : \n",
            "128\n",
            "Half or Full face? (h/f, ?:help skip:f) : \n",
            "f\n",
            "Learn mask? (y/n, ?:help skip:y) : \n",
            "y\n",
            "Optimizer mode? ( 1,2,3 ?:help skip:1) : \n",
            "1\n",
            "AE architecture (df, liae, vg ?:help skip:df) : \n",
            "df\n",
            "AutoEncoder dims (32-1024 ?:help skip:512) : \n",
            "512\n",
            "Encoder/Decoder dims per channel (21-85 ?:help skip:42) : \n",
            "42\n",
            "Use CA weights? (y/n, ?:help skip: n ) : \n",
            "n\n",
            "Use lightweight encoder? (y/n, ?:help skip:n) : \n",
            "n\n",
            "Use multiscale decoder? (y/n, ?:help skip:n) : \n",
            "n\n",
            "Use pixel loss? (y/n, ?:help skip: n ) : \n",
            "n\n",
            "Face style power ( 0.0 .. 100.0 ?:help skip:0.00) : \n",
            "0.0\n",
            "Background style power ( 0.0 .. 100.0 ?:help skip:0.00) : \n",
            "0.0\n",
            "\n",
            "\n",
            "\n",
            "\n",
            "\n",
            "Using TensorFlow backend.\n",
            "\n",
            "WARNING:tensorflow:From /usr/local/lib/python3.6/dist-packages/tensorflow/python/framework/op_def_library.py:263: colocate_with (from tensorflow.python.framework.ops) is deprecated and will be removed in a future version.\n",
            "Instructions for updating:\n",
            "Colocations handled automatically by placer.\n",
            "WARNING:tensorflow:From /usr/local/lib/python3.6/dist-packages/tensorflow/python/ops/math_ops.py:3066: to_int32 (from tensorflow.python.ops.math_ops) is deprecated and will be removed in a future version.\n",
            "Instructions for updating:\n",
            "Use tf.cast instead.\n",
            "\n",
            "Loading: 100% 654/654 [00:02<00:00, 255.29it/s]\n",
            "Loading: 100% 1520/1520 [00:05<00:00, 255.06it/s]\n",
            "===== Model summary =====\n",
            "== Model name: SAE\n",
            "==\n",
            "== Current iteration: 0\n",
            "==\n",
            "== Model options:\n",
            "== |== batch_size : 4\n",
            "== |== sort_by_yaw : False\n",
            "== |== random_flip : True\n",
            "== |== resolution : 128\n",
            "== |== face_type : f\n",
            "== |== learn_mask : True\n",
            "== |== optimizer_mode : 1\n",
            "== |== archi : df\n",
            "== |== ae_dims : 512\n",
            "== |== ed_ch_dims : 42\n",
            "== |== ca_weights : False\n",
            "== |== lighter_encoder : False\n",
            "== |== multiscale_decoder : False\n",
            "== |== pixel_loss : False\n",
            "== |== face_style_power : 0.0\n",
            "== |== bg_style_power : 0.0\n",
            "== Running on:\n",
            "== |== [0 : Tesla K80]\n",
            "=========================\n",
            "[03:33:01][#000203][1017ms] src_loss:2.916 dst_loss:0.773"
          ],
          "name": "stdout"
        }
      ]
    },
    {
      "metadata": {
        "id": "m2Ba96cVuS0K"
      },
      "cell_type": "markdown",
      "source": [
        "# Step 5. Convert frames"
      ]
    },
    {
      "metadata": {
        "id": "__aUSMa80-_M"
      },
      "cell_type": "code",
      "source": [
        "#Convert\n",
        "!python main.py convert --input-dir ../workspace/data_dst --output-dir ../workspace/data_dst/merged --aligned-dir ../workspace/data_dst/aligned --model-dir ../workspace/model --model SAE"
      ],
      "execution_count": null,
      "outputs": []
    },
    {
      "metadata": {
        "id": "symb8EIc1Csf"
      },
      "cell_type": "code",
      "source": [
        "#Convert frames to result video\n",
        "\n",
        "!python main.py videoed video-from-sequence --input-dir ../workspace/data_dst/merged --output-file ../workspace/result.mp4 --reference-file ../workspace/data_dst.mp4"
      ],
      "execution_count": null,
      "outputs": []
    },
    {
      "metadata": {
        "id": "5H85SsIW1PI3"
      },
      "cell_type": "markdown",
      "source": [
        "# Others\n",
        "\n",
        "You can see the results of each step on google Drive\n",
        "\n",
        "https://drive.google.com/drive/my-drive"
      ]
    }
  ]
}